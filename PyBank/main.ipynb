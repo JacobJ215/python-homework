{
 "cells": [
  {
   "cell_type": "code",
   "execution_count": 21,
   "id": "threatened-profession",
   "metadata": {},
   "outputs": [],
   "source": [
    "from pathlib import Path\n",
    "import csv"
   ]
  },
  {
   "cell_type": "code",
   "execution_count": 22,
   "id": "matched-platinum",
   "metadata": {},
   "outputs": [],
   "source": [
    "# create file path for budget data\n",
    "import_budget = Path(\"budget_data.csv\")\n",
    "\n",
    "# Create empty list to track total months, total profit/loss and monthly profit/loss change\n",
    "total_months = []\n",
    "total_pnl = []\n",
    "monthly_pnl_change = []\n",
    "\n",
    "# Open/Read in budget_data.csv\n",
    "with open(import_budget, \"r\") as csvfile:\n",
    "    csvreader = csv.reader(csvfile, delimiter=',')\n",
    "  \n",
    "    # Skip the header\n",
    "    csv_header = next(csvreader)\n",
    "    \n",
    "    # Iterate each row of data after the header\n",
    "    for row in csvreader:\n",
    "        \n",
    "        # Append the total months and total profit/loss to there respective lists. \n",
    "        total_months.append(row[0])\n",
    "        total_pnl.append(int(row[1]))               \n",
    "   \n",
    "    # iterate througth the total nummber of months \n",
    "    for i in range(len(total_months)-1):\n",
    "        \n",
    "        # Append list of monthly profit/loss changes: The difference between two consecutive months\n",
    "        monthly_pnl_change.append(total_pnl[i+1]-total_pnl[i])\n",
    "    \n",
    "# Calculate average change \n",
    "average_pnl_change = round(sum(monthly_pnl_change) / len(monthly_pnl_change), 2)\n",
    "    \n",
    "# Use Max and Min methods to calculate the greatest increase and decrease in profit/loss\n",
    "greatest_increase = max(monthly_pnl_change)\n",
    "greatest_decrease = min(monthly_pnl_change)\n",
    "    \n",
    "    \n",
    "# Use index method to locate the months with the greatest change in profit/loss\n",
    "greatest_increase_month = monthly_pnl_change.index(greatest_increase) + 1 \n",
    "greatest_decrease_month = monthly_pnl_change.index(greatest_decrease) + 1 \n",
    "\n"
   ]
  },
  {
   "cell_type": "code",
   "execution_count": 23,
   "id": "continuing-better",
   "metadata": {},
   "outputs": [
    {
     "name": "stdout",
     "output_type": "stream",
     "text": [
      "Financial Analysis\n",
      "------------------------------\n",
      "Total Months: 86\n",
      "Total: $38382578\n",
      "Average Change: $-2315.12\n",
      "Greatest Increase in Profits: Feb-2012 ($1926159)\n",
      "Greatest Decrease in Profits: Sep-2013 ($-2196167)\n"
     ]
    }
   ],
   "source": [
    "# Print financial analysis \n",
    "print(\"Financial Analysis\")\n",
    "print(\"------------------------------\")\n",
    "print(f\"Total Months: {len(total_months)}\")\n",
    "print(f\"Total: ${sum(total_pnl)}\")\n",
    "print(f\"Average Change: ${average_pnl_change}\")\n",
    "print(f\"Greatest Increase in Profits: {total_months[greatest_increase_month]} (${(str(greatest_increase))})\")\n",
    "print(f\"Greatest Decrease in Profits: {total_months[greatest_decrease_month]} (${(str(greatest_decrease))})\")"
   ]
  },
  {
   "cell_type": "code",
   "execution_count": 24,
   "id": "viral-hydrogen",
   "metadata": {},
   "outputs": [],
   "source": [
    "# Create file path for financial analysis  \n",
    "export_financial_analysis = Path(\"Financial_Analysis.txt\")\n",
    "\n",
    "# Export financial analysis summary as text file\n",
    "with open(export_financial_analysis,\"w\") as file:\n",
    "    file.write(\"Financial Analysis\\n\")\n",
    "    file.write(\"------------------------------\\n\")\n",
    "    file.write(f\"Total Months: {len(total_months)}\\n\")\n",
    "    file.write(f\"Total: ${sum(total_pnl)}\\n\")\n",
    "    file.write(f\"Average Change: ${average_pnl_change}\\n\")\n",
    "    file.write(f\"Greatest Increase in Profits: {total_months[greatest_increase_month]} (${(str(greatest_increase))})\\n\")\n",
    "    file.write(f\"Greatest Decrease in Profits: {total_months[greatest_decrease_month]} (${(str(greatest_decrease))})\")\n",
    "    "
   ]
  },
  {
   "cell_type": "code",
   "execution_count": null,
   "id": "victorian-architect",
   "metadata": {},
   "outputs": [],
   "source": []
  },
  {
   "cell_type": "code",
   "execution_count": null,
   "id": "several-surveillance",
   "metadata": {},
   "outputs": [],
   "source": [
    "\n"
   ]
  }
 ],
 "metadata": {
  "kernelspec": {
   "display_name": "Python 3",
   "language": "python",
   "name": "python3"
  },
  "language_info": {
   "codemirror_mode": {
    "name": "ipython",
    "version": 3
   },
   "file_extension": ".py",
   "mimetype": "text/x-python",
   "name": "python",
   "nbconvert_exporter": "python",
   "pygments_lexer": "ipython3",
   "version": "3.8.5"
  }
 },
 "nbformat": 4,
 "nbformat_minor": 5
}
